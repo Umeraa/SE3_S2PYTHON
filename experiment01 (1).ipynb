{
  "cells": [
    {
      "cell_type": "markdown",
      "metadata": {
        "id": "XG27a5m4TVue"
      },
      "source": [
        "### Strings in Python"
      ]
    },
    {
      "cell_type": "code",
      "execution_count": null,
      "metadata": {
        "id": "RVkVqzHkTVuj",
        "outputId": "8316823b-35ba-4751-8040-89604495e16e"
      },
      "outputs": [
        {
          "name": "stdout",
          "output_type": "stream",
          "text": [
            "This is a string\n",
            "This is a string\n",
            "This is a string\n"
          ]
        }
      ],
      "source": [
        "# Assigning string to a variable\n",
        "a = 'This is a string'\n",
        "print (a)\n",
        "b = \"This is a string\"\n",
        "print (b)\n",
        "c= '''This is a string'''\n",
        "print (c)"
      ]
    },
    {
      "cell_type": "markdown",
      "metadata": {
        "id": "VSVLaqZOTVun"
      },
      "source": [
        "### Lists in Python"
      ]
    },
    {
      "cell_type": "code",
      "execution_count": null,
      "metadata": {
        "id": "TCNtj2hHTVuo",
        "outputId": "45f905df-8a2a-4976-fe09-f1ad11bc038b"
      },
      "outputs": [
        {
          "name": "stdout",
          "output_type": "stream",
          "text": [
            "[1, 'a', 'string', 3]\n",
            "[1, 'a', 'string', 3, 6]\n",
            "[1, 'a', 'string', 3]\n",
            "a\n"
          ]
        }
      ],
      "source": [
        "# Declaring a list\n",
        "L = [1, \"a\" , \"string\" , 1+2]\n",
        "print (L)\n",
        "#Adding an element in the list\n",
        "L.append(6)\n",
        "print (L)\n",
        "#Deleting last element from a list\n",
        "L.pop()\n",
        "print (L)\n",
        "#Displaying Second element of the list\n",
        "print (L[1])"
      ]
    },
    {
      "cell_type": "markdown",
      "metadata": {
        "id": "p2AlqrQiTVup"
      },
      "source": [
        "### Tuples in Python"
      ]
    },
    {
      "cell_type": "code",
      "execution_count": null,
      "metadata": {
        "id": "NNATgtPVTVup",
        "outputId": "40fcc701-db74-4ce2-80b1-d16df58c84c4"
      },
      "outputs": [
        {
          "name": "stdout",
          "output_type": "stream",
          "text": [
            "(1, 'a', 'string', 3)\n",
            "a\n"
          ]
        }
      ],
      "source": [
        "tup = (1, \"a\", \"string\", 1+2)\n",
        "print(tup)\n",
        "print(tup[1])"
      ]
    },
    {
      "cell_type": "markdown",
      "metadata": {
        "id": "YS5007t-TVup"
      },
      "source": [
        "### Dictionaries in Python"
      ]
    },
    {
      "cell_type": "markdown",
      "metadata": {
        "id": "0jav8inhTVup"
      },
      "source": [
        "A Python dictionary is a data structure that stores the value in key: value pairs. Values in a dictionary can be of any data type and can be duplicated, whereas keys can’t be repeated and must be immutable."
      ]
    },
    {
      "cell_type": "code",
      "execution_count": null,
      "metadata": {
        "id": "9ls7IvCiTVuq",
        "outputId": "9b4844fc-0102-4908-89fd-dc2140429696"
      },
      "outputs": [
        {
          "name": "stdout",
          "output_type": "stream",
          "text": [
            "{1: 'Lorem', 2: 'Ipsum', 3: 'Dolerum'}\n"
          ]
        }
      ],
      "source": [
        "d = {1: 'Lorem', 2: 'Ipsum', 3: 'Dolerum'}\n",
        "print(d)"
      ]
    },
    {
      "cell_type": "markdown",
      "metadata": {
        "id": "veUUP94fTVuq"
      },
      "source": [
        "#### Create a Dictionary"
      ]
    },
    {
      "cell_type": "code",
      "execution_count": null,
      "metadata": {
        "id": "LW3Iu35GTVur",
        "outputId": "acc2bcd1-feb3-4536-8e63-fb451eca0e49"
      },
      "outputs": [
        {
          "name": "stdout",
          "output_type": "stream",
          "text": [
            "{1: 'Game', 2: 'of', 3: 'Thrones'}\n",
            "{'a': 'House', 'b': 'of', 'c': 'Cards'}\n"
          ]
        }
      ],
      "source": [
        "# create dictionary using { }\n",
        "d1 = {1: 'Game', 2: 'of', 3: 'Thrones'}\n",
        "print(d1)\n",
        "\n",
        "# create dictionary using dict() constructor\n",
        "d2 = dict(a = \"House\", b = \"of\", c = \"Cards\")\n",
        "print(d2)"
      ]
    },
    {
      "cell_type": "markdown",
      "metadata": {
        "id": "2aCe4f1KTVur"
      },
      "source": [
        "#### Accessing Dictionary Items"
      ]
    },
    {
      "cell_type": "code",
      "execution_count": null,
      "metadata": {
        "id": "n7B9eYgCTVur",
        "outputId": "476c2876-9860-4a57-aeca-60246bdcf806"
      },
      "outputs": [
        {
          "name": "stdout",
          "output_type": "stream",
          "text": [
            "Alice\n",
            "Alice\n"
          ]
        }
      ],
      "source": [
        "d = { \"name\": \"Alice\", 1: \"Python\", (1, 2): [1,2,4] }\n",
        "\n",
        "# Access using key\n",
        "print(d[\"name\"])\n",
        "\n",
        "# Access using get()\n",
        "print(d.get(\"name\"))"
      ]
    },
    {
      "cell_type": "markdown",
      "metadata": {
        "id": "CoCS_XgoTVur"
      },
      "source": [
        "#### Adding and Updating Dictionary Items"
      ]
    },
    {
      "cell_type": "code",
      "execution_count": null,
      "metadata": {
        "id": "imX-XZZUTVus",
        "outputId": "71740402-956d-4e31-cb61-0068508d7bb1"
      },
      "outputs": [
        {
          "name": "stdout",
          "output_type": "stream",
          "text": [
            "{1: 'Python dict', 2: 'of', 3: 'Thrones', 'age': 22}\n"
          ]
        }
      ],
      "source": [
        "d = {1: 'Game', 2: 'of', 3: 'Thrones'}\n",
        "\n",
        "# Adding a new key-value pair\n",
        "d[\"age\"] = 22\n",
        "\n",
        "# Updating an existing value\n",
        "d[1] = \"Python dict\"\n",
        "\n",
        "print(d)"
      ]
    },
    {
      "cell_type": "markdown",
      "source": [
        "Deleting an item from dictionary\n",
        "\n",
        "\n"
      ],
      "metadata": {
        "id": "isYeFeQMTa9R"
      }
    },
    {
      "cell_type": "code",
      "source": [
        "d = {1: 'harry', 2: 'potter', 3: 'prisoner of', 4: 'Azkaban'}\n",
        "\n",
        "val = d.pop(1)\n",
        "print(val)\n",
        "print(d)\n",
        "\n",
        "d[1] = \"J.K Rowling\"\n",
        "del d[2]\n",
        "print(d)"
      ],
      "metadata": {
        "colab": {
          "base_uri": "https://localhost:8080/"
        },
        "id": "klceyM7cT1eL",
        "outputId": "ec3b19e2-3dac-47d8-d32d-9a898c6aea1f"
      },
      "execution_count": 2,
      "outputs": [
        {
          "output_type": "stream",
          "name": "stdout",
          "text": [
            "harry\n",
            "{2: 'potter', 3: 'prisoner of', 4: 'Azkaban'}\n",
            "{3: 'prisoner of', 4: 'Azkaban', 1: 'J.K Rowling'}\n"
          ]
        }
      ]
    },
    {
      "cell_type": "code",
      "source": [],
      "metadata": {
        "id": "lKj1OauYUDcC"
      },
      "execution_count": 2,
      "outputs": []
    }
  ],
  "metadata": {
    "kernelspec": {
      "display_name": "Python 3",
      "language": "python",
      "name": "python3"
    },
    "language_info": {
      "codemirror_mode": {
        "name": "ipython",
        "version": 3
      },
      "file_extension": ".py",
      "mimetype": "text/x-python",
      "name": "python",
      "nbconvert_exporter": "python",
      "pygments_lexer": "ipython3",
      "version": "3.11.5"
    },
    "colab": {
      "provenance": []
    }
  },
  "nbformat": 4,
  "nbformat_minor": 0
}