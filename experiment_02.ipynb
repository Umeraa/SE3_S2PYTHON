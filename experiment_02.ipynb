{
  "nbformat": 4,
  "nbformat_minor": 0,
  "metadata": {
    "colab": {
      "provenance": []
    },
    "kernelspec": {
      "name": "python3",
      "display_name": "Python 3"
    },
    "language_info": {
      "name": "python"
    }
  },
  "cells": [
    {
      "cell_type": "code",
      "execution_count": 5,
      "metadata": {
        "colab": {
          "base_uri": "https://localhost:8080/"
        },
        "id": "5Utw77icEYBC",
        "outputId": "def5b252-5244-4f61-e475-a2822b9e131c"
      },
      "outputs": [
        {
          "output_type": "stream",
          "name": "stdout",
          "text": [
            "Enter your string baba\n",
            "False\n"
          ]
        }
      ],
      "source": [
        "class ConditionalStatements:\n",
        "    def checkString(self, s: str) -> bool:\n",
        "        decision = False\n",
        "\n",
        "        for letter in s:\n",
        "            letterA = False\n",
        "            letterB = False\n",
        "\n",
        "            if letter == 'b':\n",
        "                letterB = True\n",
        "                decision = True\n",
        "            elif letter == 'a':\n",
        "                letterA = True\n",
        "\n",
        "            if letterA and decision:\n",
        "                return False\n",
        "\n",
        "        return True\n",
        "\n",
        "conditional = ConditionalStatements()\n",
        "\n",
        "x = input(\"Enter your string \")\n",
        "\n",
        "result = conditional.checkString(x)\n",
        "\n",
        "print(result)"
      ]
    },
    {
      "cell_type": "code",
      "source": [
        "class ConditionalStatements:\n",
        "    def checkString(self, s: str) -> bool:\n",
        "        decision = False\n",
        "\n",
        "        for letter in s:\n",
        "            letterA = False\n",
        "            letterB = False\n",
        "\n",
        "            if letter == 'b':\n",
        "                letterB = True\n",
        "                decision = True\n",
        "            elif letter == 'a':\n",
        "                letterA = True\n",
        "\n",
        "            if letterA and decision:\n",
        "                return False\n",
        "\n",
        "        return True\n",
        "\n",
        "conditional = ConditionalStatements()\n",
        "\n",
        "x = input(\"Enter your string \")\n",
        "\n",
        "result = conditional.checkString(x)\n",
        "\n",
        "print(result)"
      ],
      "metadata": {
        "colab": {
          "base_uri": "https://localhost:8080/"
        },
        "id": "Y9CnF03QF8Hk",
        "outputId": "44beaf16-63e2-4313-9ff8-37bf7f0e5c4b"
      },
      "execution_count": 6,
      "outputs": [
        {
          "output_type": "stream",
          "name": "stdout",
          "text": [
            "Enter your string aabbb\n",
            "True\n"
          ]
        }
      ]
    },
    {
      "cell_type": "code",
      "source": [],
      "metadata": {
        "id": "A1RygTAFGNxP"
      },
      "execution_count": null,
      "outputs": []
    }
  ]
}