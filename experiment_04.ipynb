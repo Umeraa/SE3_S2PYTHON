{
  "nbformat": 4,
  "nbformat_minor": 0,
  "metadata": {
    "colab": {
      "provenance": []
    },
    "kernelspec": {
      "name": "python3",
      "display_name": "Python 3"
    },
    "language_info": {
      "name": "python"
    }
  },
  "cells": [
    {
      "cell_type": "code",
      "execution_count": 1,
      "metadata": {
        "colab": {
          "base_uri": "https://localhost:8080/"
        },
        "id": "hbHbgvyl_qA9",
        "outputId": "5e50b444-0285-4435-9735-1a801ee898fb"
      },
      "outputs": [
        {
          "output_type": "stream",
          "name": "stdout",
          "text": [
            "\n",
            "After Writing:\n",
            "It's LeviOsa,\n",
            "\n",
            "After appending:\n",
            "It's LeviOsa, not LevioSA\n"
          ]
        }
      ],
      "source": [
        "from contextlib import contextmanager\n",
        "\n",
        "@contextmanager\n",
        "def genericFileFunction(filename, method):\n",
        "    file = open(filename, method)\n",
        "    yield file\n",
        "    file.close()\n",
        "\n",
        "if __name__ == '__main__':\n",
        "    try:\n",
        "        # Remove the pass and call the function to perform write.\n",
        "        with genericFileFunction(\"first.txt\", \"w\") as f:\n",
        "            f.write(\"It's LeviOsa,\")\n",
        "            print(\"\\nAfter Writing:\")\n",
        "\n",
        "        # Read the file that was created while writing.\n",
        "        with genericFileFunction(\"first.txt\", \"r\") as f:\n",
        "            print(f.read())\n",
        "\n",
        "        # Make the changes in the file by appending some material.\n",
        "        with genericFileFunction(\"first.txt\", \"a\") as f:\n",
        "            f.write(\" not LevioSA\")\n",
        "            print(\"\\nAfter appending:\")\n",
        "\n",
        "        # Again read the same file.\n",
        "        with genericFileFunction(\"first.txt\", \"r\") as f:\n",
        "            print(f.read())\n",
        "\n",
        "    except Exception as e:\n",
        "        print(e)\n"
      ]
    },
    {
      "cell_type": "code",
      "source": [],
      "metadata": {
        "id": "v2i04dFG7Nuy"
      },
      "execution_count": null,
      "outputs": []
    }
  ]
}